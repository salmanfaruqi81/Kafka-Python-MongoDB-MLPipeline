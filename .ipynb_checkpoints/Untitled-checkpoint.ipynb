{
 "cells": [
  {
   "cell_type": "code",
   "execution_count": 1,
   "id": "86c9df4c",
   "metadata": {},
   "outputs": [],
   "source": [
    "file_path=\"sample_data/sensor/aps_failure_training_set1.csv\""
   ]
  },
  {
   "cell_type": "code",
   "execution_count": 3,
   "id": "bb14cf55",
   "metadata": {},
   "outputs": [],
   "source": [
    "import os"
   ]
  },
  {
   "cell_type": "code",
   "execution_count": null,
   "id": "1e482f64",
   "metadata": {
    "collapsed": true
   },
   "outputs": [],
   "source": []
  }
 ],
 "metadata": {
  "kernelspec": {
   "display_name": "Python 3.7.0 64-bit",
   "language": "python",
   "name": "python3"
  },
  "language_info": {
   "codemirror_mode": {
    "name": "ipython",
    "version": 3
   },
   "file_extension": ".py",
   "mimetype": "text/x-python",
   "name": "python",
   "nbconvert_exporter": "python",
   "pygments_lexer": "ipython3",
   "version": "3.7.0"
  },
  "vscode": {
   "interpreter": {
    "hash": "d3be66ed0dec120fe1e5789b7290d01650dc73a6329cdcab35cb1685e57e4fbd"
   }
  }
 },
 "nbformat": 4,
 "nbformat_minor": 5
}
